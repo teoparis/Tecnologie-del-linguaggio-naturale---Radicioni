{
 "cells": [
  {
   "cell_type": "markdown",
   "metadata": {},
   "source": [
    "PROCESSO DELLA PRIMA ANNOTAZIONE MANUALE DELL'UTENTE\n",
    "\n",
    "Vengono esaminate le coppie di termini dal file \"it.test.data.txt\" in base al cognone (Parisi: coppie nell'intervallo 451-500) che vanno da INTERVAL_START a INTERVAL_END\n",
    "\n",
    "Il processo di annotazione è fatto in modo manuale dall'utente che assegna un punteggio di similarità da 0 a 4.\n",
    "\n",
    "0: Totally dissimilar and unrelated\n",
    "\n",
    "1: Dissimilar\n",
    "\n",
    "2: Slightly similar\n",
    "\n",
    "3: Similar\n",
    "\n",
    "4: Very similar"
   ]
  },
  {
   "cell_type": "markdown",
   "metadata": {},
   "source": [
    "\n",
    "INTERVAL_START = 451\n",
    "INTERVAL_END = 500\n",
    "\n",
    "with open('annotations1.tsv', 'wt') as out_file:\n",
    "    tsv_writer = csv.writer(out_file, delimiter='\\t')\n",
    "\n",
    "    with open(\"it.test.data.txt\", \"r\", encoding=\"utf8\") as fp:\n",
    "        for i, line in enumerate(fp):\n",
    "            if i >= INTERVAL_START - 1:\n",
    "                line = line.replace(\"\\n\", \"\").split(\"\\t\")\n",
    "                print(\"==============================\")\n",
    "                word1, word2 = line[0], line[1]\n",
    "                print(word1, \" \", word2)\n",
    "                similarity_value = float(input(\"Inserire similarità (0-4): \"))\n",
    "                similarity_value = format(similarity_value, '.1f')\n",
    "                tsv_writer.writerow([word1, word2, similarity_value])\n",
    "                print(\"==============================\")\n",
    "            if i == INTERVAL_END - 1:\n",
    "                break\n",
    "    fp.close()\n",
    "    out_file.close()"
   ]
  }
 ],
 "metadata": {
  "language_info": {
   "name": "python"
  },
  "orig_nbformat": 4
 },
 "nbformat": 4,
 "nbformat_minor": 2
}
