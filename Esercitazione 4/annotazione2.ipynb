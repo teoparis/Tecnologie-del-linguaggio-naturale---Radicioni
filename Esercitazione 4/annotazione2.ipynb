{
 "cells": [
  {
   "cell_type": "markdown",
   "metadata": {},
   "source": [
    "PROCESSO DELLA SECONDA ANNOTAZIONE MANUALE DELL'UTENTE\n",
    "\n",
    "Anche in questo in caso vengono prese in considerazione le coppie di parole presenti nel file in base al cognome.\n",
    "\n",
    "Il processo di annotazione consiste nel predere la coppia di termini associarla alla coppia di bable synset ID e cosiderare, per entrambe i termini, i 3 sensi più simili presenti su WordNet, in questo ordine: Term1 Term2 BS1 BS2 Terms_in_BS1 Terms_in_BS2"
   ]
  },
  {
   "cell_type": "markdown",
   "metadata": {},
   "source": [
    "with open('annotations2.tsv', 'wt') as out_file:\n",
    "    tsv_writer = csv.writer(out_file, delimiter='\\t')\n",
    "\n",
    "    tsv_writer.writerow(['recessione', 'PIL', 'bn:00066516n','bn:00037570n','condizione macroeconomica,fattori produttivi,crescita economica','pil, P.I.L.,prodotto interno lordo'])\n",
    "    tsv_writer.writerow(['Cesare', 'Giulio Cesare', 'bn:00014550n','bn:00014550n','Gaio Giulio Cesare,Caio Giulio Cesare,imperatore','Gaio Giulio Cesare,Caio Giulio Cesare,imperatore'])\n",
    "    tsv_writer.writerow(['paziente', 'sessione', 'bn:00061017n','bn:00076588n',' ammalato,assistito,cliente ','fase,periodo,sessione'])\n",
    "    tsv_writer.writerow(['comportamentismo', 'terapia', 'bn:00009659n','bn:00076843n','behaviourismo,psicologia,comportamento  ','guarigione,malattie,metodi'])\n",
    "    tsv_writer.writerow(['imperatore', 'costituzione', 'bn:00014550n','bn:00059480n','Gaio Giulio Cesare,Caio Giulio Cesare,imperatore','organizzazione,formazione,organizzativo'])\n",
    "    tsv_writer.writerow(['matematico', 'spettacolo', 'bn:00053834n','bn:00067553n','persona,ricerche,sperimentazioni','rivista ,Teatro di rivista,spettacolo '])\n",
    "    tsv_writer.writerow(['entropia', 'informazione', 'bn:00031061n','bn:00046705n','casualita,azzardo,grandezza','Conoscenza,studio,dati '])\n",
    "    tsv_writer.writerow(['acqua di rose', 'olio di rosa', 'bn:00068288n','bn:00007010n','giulebbe,bevanda,estratto di rosa ','petali,rosa,estratto '])\n",
    "    tsv_writer.writerow(['agrume', 'pompelmo', 'bn:00019301n','bn:00019313n','frutti,piante,Rutaceae','Agrume,buccia gialla,amarognolo '])\n",
    "    tsv_writer.writerow(['Regina Vittoria', 'Inghilterra', 'bn:00065652n','bn:00013173n','regina,Regno Unito,Imperatrice ','Gran Bretagna,Regno Unito,Irlanda del Nord '])\n",
    "    tsv_writer.writerow(['Giochi Olimpici', 'spirito', 'bn:00058910n','bn:00040370n','olimpiade,Olimpiadi ,Manifestazione','fantasma,spettro,apparizione '])\n",
    "    tsv_writer.writerow(['vescovo', 'musulmano', 'bn:27267995n','bn:00055975n',' responsabile,chiese,cattolicesimo ','mussulmano,islamico,maomettano'])\n",
    "    tsv_writer.writerow(['uomo', 'sospetto', 'bn:00044576n','bn:00025884n','essere umano,Homo,umano ','convenuto,accusato ,imputato '])\n",
    "    tsv_writer.writerow(['meteorite', 'Terra', 'bn:00054602n','bn:00029424n','meteorite,Oggetto,spazio  ','mondo ,globo,terrestre '])\n",
    "    tsv_writer.writerow(['simbolo', 'segno', 'bn:00075652n','bn:00075652n','segno,significato convenzionale,elemento ','segno,significato convenzionale,elemento'])\n",
    "    tsv_writer.writerow(['antropologia', 'New York', 'bn:00004584n','bn:00041611n','Scienza,uomo,entita biologica ','Nuova York ,stato di New York,citta'])\n",
    "    tsv_writer.writerow(['tramonto', 'tavolo', 'bn:05692316n','bn:00075813n','crepuscolo,notte,illuminazione','tavola,mobilio,piano'])\n",
    "    tsv_writer.writerow(['cittadina', 'città', 'bn:00070724n','bn:00077773n','Insediamento umano,villaggio,borgo ','citta,cittadina ,paese '])\n",
    "    tsv_writer.writerow(['giacca', 'acqua minerale', 'bn:00047823n','bn:00055131n','cappotto,casacca,giacchetta ','minerale,bottiglia,acqua sorgiva '])\n",
    "    tsv_writer.writerow(['natura', 'flora', 'bn:00057017n','bn:00035324n','fenomeni,forze,cose','pianta,Plantae,vegetale '])\n",
    "    tsv_writer.writerow(['subroutine', 'compilatore','bn:00036826n','bn:00021344n','sottoprogramma,procedura,procedimento','Programma,linguaggio,istruzioni'])\n",
    "    tsv_writer.writerow(['Hamadan', 'Roma', 'bn:03266645n','bn:00015556n','citta,Iran,Ecbatana','Citta Eterna,Comune di Roma,impero romano '])\n",
    "    tsv_writer.writerow(['ombrello', 'stufa', 'bn:00078920n','bn:00074479n','parapioggia,paracqua,ombrellone','fornello,fuoco,apparecchio'])\n",
    "    tsv_writer.writerow(['onore', 'stima', 'bn:00027103n','bn:00031973n','dignità,decoro,onore','valutazione,estimazione,perizia'])\n",
    "    tsv_writer.writerow(['insegna', 'dignità', 'bn:00034960n','bn:00027103n','bandiera,segnalazioni,identificazione','decoro,onore,reputazione'])\n",
    "    tsv_writer.writerow(['schermo', 'monitor', 'bn:00027675n','bn:01132021n',' display,monitor,video','Monitor,schermo ,dispositivo'])\n",
    "    tsv_writer.writerow(['joystick', 'radar', 'bn:00022301n','bn:00054808n','cloche,barra,comando','radiolocalizzatore,posizione,rilevamento'])\n",
    "    tsv_writer.writerow(['basmati', 'riso jasmine', 'bn:00567353n','bn:02666084n','riso,grano,fragranza ','riso,chicco lungo,fiori'])\n",
    "    tsv_writer.writerow(['medaglia', 'scarpe da ginnastica', 'bn:23946490n','bn:00042319n','riconoscimento,Attestazione,distinzione','sneaker,takkies,attivita sportive'])\n",
    "    tsv_writer.writerow(['legge', 'piscina', 'bn:00048655n','bn:00056911n','diritto,giurisprudenza,legislazione','vasca,piscina coperta,nuotare'])\n",
    "    tsv_writer.writerow(['sorgente', 'scatola', 'bn:00036077n','bn:00012524n','fonte,polla,scaturigine','cassetta,astuccio,cassa'])\n",
    "    tsv_writer.writerow(['teatro', 'batteria', 'bn:00045002n','bn:00028891n','Edificio,opere,spettacolo ','tamburo,Membranofoni,membranofono '])\n",
    "    tsv_writer.writerow(['flora', 'web browser', 'bn:00035324n','bn:00013447n','pianta,Plantae,vegetale','browser,navigatore,informatica'])\n",
    "    tsv_writer.writerow(['camicia', 'cardigan', 'bn:00071142n','bn:00015958n','Indumento,cotone,maniche','golf,maglione,bottoni'])\n",
    "    tsv_writer.writerow(['poema', 'ritmo', 'bn:15205441n','bn:00009396n','poesia,versi,narrativo','tempo,pause,intervalli'])\n",
    "    tsv_writer.writerow(['profeta', 'prete', 'bn:00064759n','bn:00024459n','aedo,divinatore,vate','pastore,curato,Parroco'])\n",
    "    tsv_writer.writerow(['Oscar', 'stadio', 'bn:00000571n','bn:00005532n','Premio Oscar,Academy Award, cinema','arena,campo sportivo,palazzetto dello sport'])\n",
    "    tsv_writer.writerow(['backgammon', 'Go', 'bn:00007779n','bn:00040833n','tavola reale,sbaraglino,tric-trac','gioco da tavolo,giocatori ,Cina'])\n",
    "    tsv_writer.writerow(['farfalla', 'rosa', 'bn:00014271n','bn:00068283n','Insetto ,grandi ali ,Lepidotteri','rosaio,Fiore,pianta'])\n",
    "    tsv_writer.writerow(['recinto', 'salto', 'bn:00034048n','bn:00048558n','recinzione,barriera,cinta','movimento,salto,abilita'])\n",
    "    tsv_writer.writerow(['nichilismo', 'film', 'bn:00057710n','bn:00034471n','nihilismo,Dottrina filosofica ,societa ','spettacolo ,pellicola,opera cinematografica'])\n",
    "    tsv_writer.writerow(['asteroide', 'stella', 'bn:00006608n','bn:00073964n','planetoide,corpo celeste,pianeta terrestre','stella,sole,Corpo celeste'])\n",
    "    tsv_writer.writerow(['sommossa', 'disegno', 'bn:00047003n','bn:00028639n','ribellione,rivolta,insurrezione','figura,illustrazione ,riproduzione'])\n",
    "    tsv_writer.writerow(['intimo', 'corpo', 'bn:00079003n','bn:00011744n','biancheria intima,lingerie,indumento','organismo,tessuti,tessuti'])\n",
    "    tsv_writer.writerow(['Boeing', 'aereo', 'bn:01156257n','bn:00002275n','aereo militare,mezzo militare,spazioplano','aeromobile,velivolo,aeroplano'])\n",
    "    tsv_writer.writerow(['cameo', 'interpretazione', 'bn:02119437n','bn:00061560n','apparizione,personaggio famoso,spettacolo','performance,esecuzione,esibizione'])\n",
    "    tsv_writer.writerow(['mondo', 'Asia', 'bn:00029424n','bn:00006329n','terra,globo,globo terrestre','regione,supercontinente,continente'])\n",
    "    tsv_writer.writerow(['arancia', 'agrume', 'bn:17389700n','bn:00019301n','arancio ,albero,Rutaceae','Citrus,frutto,pianta'])\n",
    "    tsv_writer.writerow(['ghiacciaio', 'riscaldamento globale', 'bn:00040579n','bn:00040681n','ghiaccio,regioni montane,neve','clima,atmosfera,mutamento'])\n",
    "    tsv_writer.writerow(['galleria', 'percorso', 'bn:00078606n','bn:00067975n','tunnel,Passaggio,cunicolo','strada,via,Striscia di terreno'])"
   ]
  }
 ],
 "metadata": {
  "language_info": {
   "name": "python"
  },
  "orig_nbformat": 4
 },
 "nbformat": 4,
 "nbformat_minor": 2
}
